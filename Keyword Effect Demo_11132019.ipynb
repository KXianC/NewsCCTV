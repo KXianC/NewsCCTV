{
 "cells": [
  {
   "cell_type": "code",
   "execution_count": 33,
   "metadata": {},
   "outputs": [],
   "source": [
    "from cctv_news import *\n",
    "import warnings\n",
    "warnings.filterwarnings('ignore')\n",
    "import seaborn as sns"
   ]
  },
  {
   "cell_type": "code",
   "execution_count": 34,
   "metadata": {},
   "outputs": [],
   "source": [
    "df = read_concept_detail_data(concept_detail_path, '一带一路') # '一带一路' is one-belt-one-road"
   ]
  },
  {
   "cell_type": "code",
   "execution_count": 35,
   "metadata": {},
   "outputs": [
    {
     "data": {
      "text/html": [
       "<div>\n",
       "<style scoped>\n",
       "    .dataframe tbody tr th:only-of-type {\n",
       "        vertical-align: middle;\n",
       "    }\n",
       "\n",
       "    .dataframe tbody tr th {\n",
       "        vertical-align: top;\n",
       "    }\n",
       "\n",
       "    .dataframe thead th {\n",
       "        text-align: right;\n",
       "    }\n",
       "</style>\n",
       "<table border=\"1\" class=\"dataframe\">\n",
       "  <thead>\n",
       "    <tr style=\"text-align: right;\">\n",
       "      <th></th>\n",
       "      <th>concept_code</th>\n",
       "      <th>concept_name</th>\n",
       "      <th>ts_code</th>\n",
       "      <th>name</th>\n",
       "    </tr>\n",
       "  </thead>\n",
       "  <tbody>\n",
       "    <tr>\n",
       "      <th>1581</th>\n",
       "      <td>TS48</td>\n",
       "      <td>一带一路</td>\n",
       "      <td>000088.SZ</td>\n",
       "      <td>盐田港</td>\n",
       "    </tr>\n",
       "    <tr>\n",
       "      <th>1582</th>\n",
       "      <td>TS48</td>\n",
       "      <td>一带一路</td>\n",
       "      <td>000157.SZ</td>\n",
       "      <td>中联重科</td>\n",
       "    </tr>\n",
       "    <tr>\n",
       "      <th>1583</th>\n",
       "      <td>TS48</td>\n",
       "      <td>一带一路</td>\n",
       "      <td>000425.SZ</td>\n",
       "      <td>徐工机械</td>\n",
       "    </tr>\n",
       "    <tr>\n",
       "      <th>1584</th>\n",
       "      <td>TS48</td>\n",
       "      <td>一带一路</td>\n",
       "      <td>000507.SZ</td>\n",
       "      <td>珠海港</td>\n",
       "    </tr>\n",
       "    <tr>\n",
       "      <th>1585</th>\n",
       "      <td>TS48</td>\n",
       "      <td>一带一路</td>\n",
       "      <td>000528.SZ</td>\n",
       "      <td>柳工</td>\n",
       "    </tr>\n",
       "  </tbody>\n",
       "</table>\n",
       "</div>"
      ],
      "text/plain": [
       "     concept_code concept_name    ts_code  name\n",
       "1581         TS48         一带一路  000088.SZ   盐田港\n",
       "1582         TS48         一带一路  000157.SZ  中联重科\n",
       "1583         TS48         一带一路  000425.SZ  徐工机械\n",
       "1584         TS48         一带一路  000507.SZ   珠海港\n",
       "1585         TS48         一带一路  000528.SZ    柳工"
      ]
     },
     "execution_count": 35,
     "metadata": {},
     "output_type": "execute_result"
    }
   ],
   "source": [
    "df.head()"
   ]
  },
  {
   "cell_type": "code",
   "execution_count": 38,
   "metadata": {},
   "outputs": [
    {
     "name": "stdout",
     "output_type": "stream",
     "text": [
      "000088.SZ ['盐田港'] 2.24\n",
      "000157.SZ ['中联重科'] 5.99\n",
      "000425.SZ ['徐工机械'] 11.65\n",
      "000507.SZ ['珠海港'] 18.0\n",
      "000528.SZ ['柳工'] 10.77\n",
      "000680.SZ ['山推股份'] -2.55\n",
      "000777.SZ ['中核科技'] -14.51\n",
      "000877.SZ ['天山股份'] -4.9\n",
      "000881.SZ ['中广核技'] -0.83\n",
      "000905.SZ ['厦门港务'] 11.36\n",
      "000928.SZ ['中钢国际'] -53.66\n",
      "002040.SZ ['南京港'] -8.25\n",
      "002051.SZ ['中工国际'] -22.15\n",
      "002130.SZ ['沃尔核材'] -4.37\n",
      "002167.SZ ['东方锆业'] 12.23\n",
      "002207.SZ ['ST准油'] -5.95\n",
      "002302.SZ ['西部建设'] 13.26\n",
      "002307.SZ ['北新路桥'] -7.98\n",
      "002366.SZ ['台海核电'] -49.3\n",
      "002469.SZ ['三维工程'] -1.28\n",
      "300103.SZ ['达刚路机'] -12.99\n",
      "300351.SZ ['永贵电器'] -13.96\n",
      "600018.SH ['上港集团'] 9.54\n",
      "600031.SH ['三一重工'] 19.14\n",
      "600075.SH ['新疆天业'] -25.61\n",
      "600279.SH ['重庆港九'] -3.37\n",
      "600368.SH ['五洲交通'] 2.82\n",
      "600425.SH ['青松建化'] -3.36\n",
      "600495.SH ['晋西车轴'] -0.96\n",
      "600528.SH ['中铁工业'] 6.93\n",
      "600545.SH ['卓郎智能'] -2.43\n",
      "600875.SH ['东方电气'] 4.46\n",
      "600970.SH ['中材国际'] -13.25\n",
      "601008.SH ['连云港'] -20.18\n",
      "601018.SH ['宁波港'] 3.29\n",
      "601106.SH ['中国一重'] 8.2\n",
      "601186.SH ['中国铁建'] 6.92\n",
      "601228.SH ['广州港'] -21.22\n",
      "601390.SH ['中国中铁'] 2.32\n",
      "601611.SH ['中国核建'] -13.07\n",
      "601618.SH ['中国中冶'] 2.59\n",
      "601668.SH ['中国建筑'] 10.33\n",
      "601669.SH ['中国电建'] 1.87\n",
      "601727.SH ['上海电气'] 8.69\n",
      "601766.SH ['中国中车'] 3.23\n",
      "601800.SH ['中国交建'] 7.26\n",
      "601880.SH ['大连港'] 1.01\n",
      "601985.SH ['中国核电'] 5.05\n",
      "603111.SH ['康尼机电'] -9.3\n",
      "603169.SH ['兰石重装'] -2.73\n",
      "603308.SH ['应流股份'] -11.35\n"
     ]
    }
   ],
   "source": [
    "l = []\n",
    "for code in df.ts_code.values:\n",
    "#     stock = pd.read_csv('/Users/xian.chen/data_bank/tradeA/02price/01daily/bystock/daily_bystock_000002.SZ.csv')\n",
    "    stock = read_stock_price_data(stock_path, code)\n",
    "    try:\n",
    "        one_month_return = round((stock[stock.index == '20170714'].close[0]-stock[stock.index == '20170517'].close[0]) / stock[stock.index == '20170517'].close[0]*100,2)\n",
    "        print(code, df[df.ts_code==code].name.values, one_month_return)\n",
    "        l.append(one_month_return)\n",
    "    except Exception as e:\n",
    "#         print(e)\n",
    "        pass"
   ]
  },
  {
   "cell_type": "code",
   "execution_count": 39,
   "metadata": {},
   "outputs": [
    {
     "data": {
      "image/png": "[encoded data removed]",
      "text/plain": [
       "<Figure size 432x288 with 1 Axes>"
      ]
     },
     "metadata": {
      "needs_background": "light"
     },
     "output_type": "display_data"
    }
   ],
   "source": [
    "sns.distplot(l,bins=30,kde=False);"
   ]
  },
  {
   "cell_type": "markdown",
   "metadata": {},
   "source": [
    "# if '中' is in the company name, there is high chance it is a nation-owned company which is going to be benefit the most from national wide strategy."
   ]
  },
  {
   "cell_type": "code",
   "execution_count": 41,
   "metadata": {},
   "outputs": [
    {
     "name": "stdout",
     "output_type": "stream",
     "text": [
      "000157.SZ 中联重科 5.3\n",
      "000777.SZ 中核科技 -11.51\n",
      "000881.SZ 中广核技 -1.15\n",
      "000928.SZ 中钢国际 -52.85\n",
      "002051.SZ 中工国际 -20.26\n",
      "600528.SH 中铁工业 7.35\n",
      "600970.SH 中材国际 -15.94\n",
      "601106.SH 中国一重 3.15\n",
      "601186.SH 中国铁建 4.75\n",
      "601390.SH 中国中铁 2.09\n",
      "601611.SH 中国核建 -11.93\n",
      "601618.SH 中国中冶 2.0\n",
      "601668.SH 中国建筑 8.91\n",
      "601669.SH 中国电建 2.74\n",
      "601766.SH 中国中车 2.12\n",
      "601800.SH 中国交建 5.5\n",
      "601985.SH 中国核电 4.52\n"
     ]
    }
   ],
   "source": [
    "l = []\n",
    "for code in df.ts_code.values:\n",
    "#     stock = pd.read_csv('/Users/xian.chen/data_bank/tradeA/02price/01daily/bystock/daily_bystock_000002.SZ.csv')\n",
    "    stock = read_stock_price_data(stock_path, code)\n",
    "    try:\n",
    "        if '中' in df[df.ts_code==code].name.values[0]:\n",
    "            one_month_return = round((stock[stock.index == '20170713'].close[0]-stock[stock.index == '20170517'].close[0]) / stock[stock.index == '20170517'].close[0]*100,2)\n",
    "            print(code, df[df.ts_code==code].name.values[0], one_month_return)\n",
    "            l.append(one_month_return)\n",
    "    except Exception as e:\n",
    "#         print(e)\n",
    "        pass"
   ]
  },
  {
   "cell_type": "code",
   "execution_count": 44,
   "metadata": {},
   "outputs": [
    {
     "data": {
      "image/png": "[encoded data removed]",
      "text/plain": [
       "<Figure size 432x288 with 1 Axes>"
      ]
     },
     "metadata": {
      "needs_background": "light"
     },
     "output_type": "display_data"
    }
   ],
   "source": [
    "sns.distplot(l,bins=30, kde=False);"
   ]
  },
  {
   "cell_type": "markdown",
   "metadata": {},
   "source": [
    "# Nuclear related stock tend to underperform for some reason"
   ]
  },
  {
   "cell_type": "code",
   "execution_count": 46,
   "metadata": {},
   "outputs": [
    {
     "name": "stdout",
     "output_type": "stream",
     "text": [
      "000157.SZ 中联重科 5.3\n",
      "000928.SZ 中钢国际 -52.85\n",
      "002051.SZ 中工国际 -20.26\n",
      "600528.SH 中铁工业 7.35\n",
      "600970.SH 中材国际 -15.94\n",
      "601106.SH 中国一重 3.15\n",
      "601186.SH 中国铁建 4.75\n",
      "601390.SH 中国中铁 2.09\n",
      "601618.SH 中国中冶 2.0\n",
      "601668.SH 中国建筑 8.91\n",
      "601669.SH 中国电建 2.74\n",
      "601766.SH 中国中车 2.12\n",
      "601800.SH 中国交建 5.5\n"
     ]
    }
   ],
   "source": [
    "l = []\n",
    "for code in df.ts_code.values:\n",
    "#     stock = pd.read_csv('/Users/xian.chen/data_bank/tradeA/02price/01daily/bystock/daily_bystock_000002.SZ.csv')\n",
    "    stock = read_stock_price_data(stock_path, code)\n",
    "    try:\n",
    "        if '中' in df[df.ts_code==code].name.values[0] and '核' not in df[df.ts_code==code].name.values[0]:\n",
    "            one_month_return = round((stock[stock.index == '20170713'].close[0]-stock[stock.index == '20170517'].close[0]) / stock[stock.index == '20170517'].close[0]*100,2)\n",
    "            print(code, df[df.ts_code==code].name.values[0], one_month_return)\n",
    "            l.append(one_month_return)\n",
    "    except Exception as e:\n",
    "#         print(e)\n",
    "        pass"
   ]
  },
  {
   "cell_type": "code",
   "execution_count": 47,
   "metadata": {},
   "outputs": [
    {
     "data": {
      "image/png": "[encoded data removed]",
      "text/plain": [
       "<Figure size 432x288 with 1 Axes>"
      ]
     },
     "metadata": {
      "needs_background": "light"
     },
     "output_type": "display_data"
    }
   ],
   "source": [
    "sns.distplot(l,bins=30,kde=False);"
   ]
  },
  {
   "cell_type": "markdown",
   "metadata": {},
   "source": [
    "# That leaves 3 stocks underperforme, I checked them individually\n",
    "# 000928.SZ 中钢国际 -52.85\n",
    "# 002051.SZ 中工国际 -20.26\n",
    "# 600970.SH 中材国际 -15.94, there was a 54.80% jump up from 3/22/2017 to 4/11/2017, followed by corection"
   ]
  },
  {
   "cell_type": "markdown",
   "metadata": {},
   "source": [
    "# if you cross out '国际' in the list, the 3 underperformed stocks will be all out. But it seems non sense to me."
   ]
  },
  {
   "cell_type": "code",
   "execution_count": null,
   "metadata": {},
   "outputs": [],
   "source": []
  }
 ],
 "metadata": {
  "kernelspec": {
   "display_name": "myenv",
   "language": "python",
   "name": "myenv"
  },
  "language_info": {
   "codemirror_mode": {
    "name": "ipython",
    "version": 3
   },
   "file_extension": ".py",
   "mimetype": "text/x-python",
   "name": "python",
   "nbconvert_exporter": "python",
   "pygments_lexer": "ipython3",
   "version": "3.7.3"
  }
 },
 "nbformat": 4,
 "nbformat_minor": 2
}
